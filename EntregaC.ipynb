{
 "cells": [
  {
   "cell_type": "code",
   "execution_count": 1,
   "metadata": {},
   "outputs": [],
   "source": [
    "import pyspark\n",
    "from pyspark.sql.functions import *\n",
    "from pyspark.sql.types import *\n",
    "from pyspark.sql import SQLContext\n",
    "import json\n",
    "from pyspark.sql.functions import mean, min, max\n",
    "import matplotlib.pyplot as plt\n",
    "from pyspark.sql import SparkSession"
   ]
  },
  {
   "cell_type": "markdown",
   "metadata": {},
   "source": [
    "# Introdução \n",
    "Spark\n",
    "banco de dados\n",
    "\n",
    "https://www.kaggle.com/yelp-dataset/yelp-dataset/download"
   ]
  },
  {
   "cell_type": "code",
   "execution_count": 2,
   "metadata": {},
   "outputs": [
    {
     "name": "stdout",
     "output_type": "stream",
     "text": [
      "+--------------------+----+-------------------+-----+--------------------+-----+--------------------+------+--------------------+\n",
      "|         business_id|cool|               date|funny|           review_id|stars|                text|useful|             user_id|\n",
      "+--------------------+----+-------------------+-----+--------------------+-----+--------------------+------+--------------------+\n",
      "|ujmEBvifdJM6h6RLv...|   0|2013-05-07 04:34:36|    1|Q1sbwvVQXV2734tPg...|  1.0|Total bill for th...|     6|hG7b0MtEbXx5QzbzE...|\n",
      "|NZnhc2sEQy3RmzKTZ...|   0|2017-01-14 21:30:33|    0|GJXCdrto3ASJOqKeV...|  5.0|I *adore* Travis ...|     0|yXQM5uF2jS6es16SJ...|\n",
      "|WTqjgwHlXbSFevF32...|   0|2016-11-09 20:09:03|    0|2TzJjDVDEuAW6MR5V...|  5.0|I have to say tha...|     3|n6-Gk65cPZL6Uz8qR...|\n",
      "|ikCg8xy5JIg_NGPx-...|   0|2018-01-09 20:56:38|    0|yi0R0Ugj_xUx_Nek0...|  5.0|Went in for a lun...|     0|dacAIZ6fTM6mqwW5u...|\n",
      "|b1b1eb3uo-w561D0Z...|   0|2018-01-30 23:07:38|    0|11a8sVPMUFtaC7_AB...|  1.0|Today was my seco...|     7|ssoyf2_x0EQMed6fg...|\n",
      "|eU_713ec6fTGNO4Be...|   0|2013-01-20 13:25:59|    0|fdiNeiN_hoCxCMy2w...|  4.0|I'll be the first...|     0|w31MKYsNFMrjhWxxA...|\n",
      "|3fw2X5bZYeW9xCz_z...|   5|2016-05-07 01:21:02|    4|G7XHMxG0bx9oBJNEC...|  3.0|Tracy dessert had...|     5|jlu4CztcSxrKx56ba...|\n",
      "|zvO-PJCpNk4fgAVUn...|   1|2010-10-05 19:12:35|    1|8e9HxxLjjqc9ez5ez...|  1.0|This place has go...|     3|d6xvYpyzcfbF_AZ8v...|\n",
      "|b2jN2mm9Wf3RcrZCg...|   0|2015-01-18 14:04:18|    0|qrffudO73zsslZbe8...|  2.0|I was really look...|     1|sG_h0dIzTKWa3Q6fm...|\n",
      "|oxwGyA17NL6c5t1Et...|   1|2012-02-29 21:52:43|    0|RS_GTIT6836bCaPy6...|  3.0|It's a giant Best...|     1|nMeCE5-xsdleyxYuN...|\n",
      "|8mIrX_LrOnAqWsB5J...|   0|2011-11-30 02:11:15|    0|kbtscdyz6lvrtGjD1...|  4.0|Like walking back...|     0|FIk4lQQu1eTe2EpzQ...|\n",
      "|mRUVMJkUGxrByzMQ2...|   0|2017-12-15 23:27:08|    1|-I5umRTkhw15RqpKM...|  1.0|Walked in around ...|     0|-mA3-1mN4JIEkqOtd...|\n",
      "|FxLfqxdYPA6Z85PFK...|   0|2016-05-07 01:36:53|    0|Z7wgXp98wYB57QdRY...|  4.0|Wow. So surprised...|     0|GYNnVehQeXjty0xH7...|\n",
      "|LUN6swQYa4xJKaM_U...|   0|2018-04-27 20:25:26|    0|qlXw1JQ0UodW7qrmV...|  4.0|Michael from Red ...|     0|bAhqAPoWaZYcyYi7b...|\n",
      "|AakkkTuGZA2KBodKi...|   0|2012-07-16 00:37:14|    1|JVcjMhlavKKn3UIt9...|  1.0|I cannot believe ...|     1|TpyOT5E16YASd7EWj...|\n",
      "|YvrylyuWgbP90RgMq...|   0|2017-04-07 21:27:49|    0|svK3nBU7Rk8VfGorl...|  5.0|You can't really ...|     0|NJlxGtouq06hhC7sS...|\n",
      "|NyLYY8q1-H3hfsTwu...|   0|2015-01-03 22:47:34|    0|1wVA2-vQIuW_ClmXk...|  4.0|Great lunch today...|     0|86J5DwcFk4f4In1Vx...|\n",
      "|cHdJXLlKNWixBXpDw...|   1|2015-04-01 16:30:00|    7|6BnQwlxRn7ZuWdzni...|  3.0|I love chinese fo...|     1|JSrP-dUmLlwZiI7Dp...|\n",
      "|6lj2BJ4tJeu7db5as...|   0|2017-05-26 01:23:19|    0|rEITo90tpyKmEfNDp...|  5.0|We've been a huge...|     0|6Fz_nus_OG4gar721...|\n",
      "|y-Iw6dZflNix4BdwI...|   0|2014-06-27 21:19:23|    0|4bUyL7lzoWzDZaJET...|  3.0|Good selection of...|     0|_N7Ndn29bpll_961o...|\n",
      "+--------------------+----+-------------------+-----+--------------------+-----+--------------------+------+--------------------+\n",
      "only showing top 20 rows\n",
      "\n"
     ]
    }
   ],
   "source": [
    "spark = SparkSession.builder.appName(\"MinhaAplicacao\").getOrCreate()\n",
    "sc = spark.sparkContext\n",
    "sqlContext = pyspark.SQLContext(sc)\n",
    "\n",
    "df= spark.read.json('../yelp_academic_dataset_review.json')\n",
    "df.show()"
   ]
  },
  {
   "cell_type": "markdown",
   "metadata": {},
   "source": [
    "### Algumas características do dataframe:"
   ]
  },
  {
   "cell_type": "code",
   "execution_count": 3,
   "metadata": {},
   "outputs": [
    {
     "name": "stdout",
     "output_type": "stream",
     "text": [
      "(6685900, 9)\n"
     ]
    }
   ],
   "source": [
    "print((df.count(), len(df.columns)))  # Número de linhas e de colunas"
   ]
  },
  {
   "cell_type": "code",
   "execution_count": 4,
   "metadata": {},
   "outputs": [
    {
     "data": {
      "text/plain": [
       "Row(business_id='ujmEBvifdJM6h6RLv4wQIg', cool=0, date='2013-05-07 04:34:36', funny=1, review_id='Q1sbwvVQXV2734tPgoKj4Q', stars=1.0, text='Total bill for this horrible service? Over $8Gs. These crooks actually had the nerve to charge us $69 for 3 pills. I checked online the pills can be had for 19 cents EACH! Avoid Hospital ERs at all costs.', useful=6, user_id='hG7b0MtEbXx5QzbzE6C_VA')"
      ]
     },
     "execution_count": 4,
     "metadata": {},
     "output_type": "execute_result"
    }
   ],
   "source": [
    "df.first() # Um exemplo de uma das colunas"
   ]
  },
  {
   "cell_type": "code",
   "execution_count": 5,
   "metadata": {},
   "outputs": [
    {
     "name": "stdout",
     "output_type": "stream",
     "text": [
      "+---------------------------+\n",
      "|count(DISTINCT business_id)|\n",
      "+---------------------------+\n",
      "|                     192606|\n",
      "+---------------------------+\n",
      "\n"
     ]
    }
   ],
   "source": [
    "gr = df.agg(countDistinct(\"business_id\")) # Quantidade de business diferentes\n",
    "gr.show() "
   ]
  },
  {
   "cell_type": "markdown",
   "metadata": {},
   "source": [
    "# Manipulando os dados"
   ]
  },
  {
   "cell_type": "markdown",
   "metadata": {},
   "source": [
    "# A biblioteca Spark possibilita ...."
   ]
  },
  {
   "cell_type": "code",
   "execution_count": 13,
   "metadata": {},
   "outputs": [],
   "source": [
    "def get_business(biz_id):   \n",
    "    df_b = df.filter(df['business_id'] == biz_id).select('stars','date','text','useful') # Separa o df com somente o business de intresse\n",
    "\n",
    "    df_size = df_b.count() # Conta o numero de reviews\n",
    "    avg_rating = (df_b.agg({\"stars\": \"avg\"})).first()[0] # Faz a media de reviews\n",
    "    std = (df_b.agg({\"stars\": \"stddev\"})).first()[0] # Calculda o desvio padrao\n",
    "    worst = df_b.orderBy(asc(\"stars\"),desc(\"useful\")).limit(1).first() # Seleciona a review com nota mais baixa e mais marcada como 'useful'\n",
    "    \n",
    "    print(\"Quantidade de Reviews: \", df_size)\n",
    "    print(\"Media das Avaliacoes: \", avg_rating)\n",
    "    print(\"Desvio padrao: \", std)\n",
    "    print(\"\\nPior review: \", worst['stars'], \"estrelas em \", worst['date'])\n",
    "    print(\"Comentario da pior review: \", worst['text'])"
   ]
  },
  {
   "cell_type": "code",
   "execution_count": 14,
   "metadata": {},
   "outputs": [
    {
     "name": "stdout",
     "output_type": "stream",
     "text": [
      "Quantidade de Reviews:  39\n",
      "Media das Avaliacoes:  4.230769230769231\n",
      "Desvio padrao:  0.9586596581065523\n",
      "\n",
      "Pior review:  1.0 estrelas em  2011-02-19 20:35:31\n",
      "Comentario da pior review:  I found a short black curly hair in my basket of fries... and it was definitely not mine.\n",
      "\n",
      "Needless to say, this completely ruined my meal. Thanks to Peppi's, I won't be eating anything that isn't ready-to-eat as is (like fruit) for the next few days.\n",
      "\n",
      "Not only does the shop LOOK grimey, it IS grimey... Completely disgusted.\n"
     ]
    }
   ],
   "source": [
    "biz_id = 'FKQUxOfW_W5R4OTut4G1Vw'\n",
    "\n",
    "get_business(biz_id)"
   ]
  },
  {
   "cell_type": "markdown",
   "metadata": {},
   "source": [
    "# Visualizando a evolução das reviews de um business."
   ]
  },
  {
   "cell_type": "markdown",
   "metadata": {},
   "source": [
    "### Vamos selecionar um business específico.    \n",
    "\n",
    "### Para facilitar a visualização vamos criar uma coluna 'year_only' com somente o ano em que a review foi criada."
   ]
  },
  {
   "cell_type": "code",
   "execution_count": 6,
   "metadata": {},
   "outputs": [
    {
     "name": "stdout",
     "output_type": "stream",
     "text": [
      "+-----+-------------------+----------+\n",
      "|stars|               date| year_only|\n",
      "+-----+-------------------+----------+\n",
      "|  2.0|2015-10-23 13:23:34|2015-01-01|\n",
      "|  5.0|2014-10-27 03:32:30|2014-01-01|\n",
      "|  5.0|2018-05-08 16:39:25|2018-01-01|\n",
      "|  5.0|2014-03-14 04:56:09|2014-01-01|\n",
      "|  3.0|2012-05-28 15:40:38|2012-01-01|\n",
      "|  5.0|2013-12-07 01:44:23|2013-01-01|\n",
      "|  5.0|2017-08-16 06:41:49|2017-01-01|\n",
      "|  5.0|2005-04-27 23:38:49|2005-01-01|\n",
      "|  5.0|2012-03-30 06:41:55|2012-01-01|\n",
      "|  5.0|2012-10-08 13:28:59|2012-01-01|\n",
      "|  5.0|2017-11-06 19:40:32|2017-01-01|\n",
      "|  5.0|2015-11-18 21:41:50|2015-01-01|\n",
      "|  3.0|2014-01-17 06:48:13|2014-01-01|\n",
      "|  3.0|2016-04-23 03:31:12|2016-01-01|\n",
      "|  2.0|2012-10-08 14:44:04|2012-01-01|\n",
      "|  4.0|2010-11-22 05:23:59|2010-01-01|\n",
      "|  5.0|2014-05-07 20:14:25|2014-01-01|\n",
      "|  5.0|2011-02-13 18:45:43|2011-01-01|\n",
      "|  4.0|2011-11-30 18:23:43|2011-01-01|\n",
      "|  2.0|2017-03-27 04:39:46|2017-01-01|\n",
      "+-----+-------------------+----------+\n",
      "only showing top 20 rows\n",
      "\n"
     ]
    }
   ],
   "source": [
    "df_baa = df.filter(df['business_id'] == '--9e1ONYQuAa-CB_Rrw7Tw').select('stars','date') # Separa o df com somente o business de intresse\n",
    "df_baaY = df_baa.withColumn(\"year_only\",(trunc(df_baa.date, 'year'))) # Deixa somento o ano na data\n",
    "df_baaY.show()"
   ]
  },
  {
   "cell_type": "markdown",
   "metadata": {},
   "source": [
    "### Separando os reviews pelo número de estrelas e contando quantos foram feitos em cada ano. "
   ]
  },
  {
   "cell_type": "code",
   "execution_count": 7,
   "metadata": {},
   "outputs": [],
   "source": [
    "df_baaY1 = df_baaY.filter(df_baa['stars'] == 1).select('stars','year_only')   # Filtra as reviews pelo número de estrelas \n",
    "df_baaY1 = df_baaY1.groupBy('year_only').count()  # Conta quantas reviews daquele tipo foram feitas por ano\n",
    "df_baaY1 = df_baaY1.select(col(\"year_only\").alias(\"year_only1\"), col(\"count\").alias(\"count_stars1\"))\n",
    "\n",
    "df_baaY2 = df_baaY.filter(df_baa['stars'] == 2).select('stars','year_only') \n",
    "df_baaY2 = df_baaY2.groupBy('year_only').count()\n",
    "df_baaY2 = df_baaY2.select(col(\"year_only\").alias(\"year_only2\"), col(\"count\").alias(\"count_stars2\"))\n",
    "\n",
    "df_baaY3 = df_baaY.filter(df_baa['stars'] == 3).select('stars','year_only') \n",
    "df_baaY3 = df_baaY3.groupBy('year_only').count()\n",
    "df_baaY3 = df_baaY3.select(col(\"year_only\").alias(\"year_only3\"), col(\"count\").alias(\"count_stars3\"))\n",
    "\n",
    "df_baaY4 = df_baaY.filter(df_baa['stars'] == 4).select('stars','year_only') \n",
    "df_baaY4 = df_baaY4.groupBy('year_only').count()\n",
    "df_baaY4 = df_baaY4.select(col(\"year_only\").alias(\"year_only4\"), col(\"count\").alias(\"count_stars4\"))\n",
    "\n",
    "df_baaY5 = df_baaY.filter(df_baa['stars'] == 5).select('stars','year_only') \n",
    "df_baaY5 = df_baaY5.groupBy('year_only').count()\n",
    "df_baaY5 = df_baaY5.select(col(\"year_only\").alias(\"year_only5\"), col(\"count\").alias(\"count_stars5\"))\n"
   ]
  },
  {
   "cell_type": "markdown",
   "metadata": {},
   "source": [
    "### Agora vamos contar quantas reviews foram feitas por ano"
   ]
  },
  {
   "cell_type": "code",
   "execution_count": 8,
   "metadata": {},
   "outputs": [
    {
     "name": "stdout",
     "output_type": "stream",
     "text": [
      "+----------+----------+\n",
      "| year_only|count_year|\n",
      "+----------+----------+\n",
      "|2005-01-01|         1|\n",
      "|2006-01-01|        12|\n",
      "|2007-01-01|        41|\n",
      "|2008-01-01|        78|\n",
      "|2009-01-01|       120|\n",
      "|2010-01-01|       135|\n",
      "|2011-01-01|       163|\n",
      "|2012-01-01|       138|\n",
      "|2013-01-01|       168|\n",
      "|2014-01-01|       160|\n",
      "|2015-01-01|       160|\n",
      "|2016-01-01|       171|\n",
      "|2017-01-01|       157|\n",
      "|2018-01-01|       157|\n",
      "+----------+----------+\n",
      "\n"
     ]
    }
   ],
   "source": [
    "df_ytot =  df_baaY.groupBy('year_only').count()   # conta quantas reviews foram feitas por ano\n",
    "df_ytot = df_ytot.select(col(\"year_only\"), col(\"count\").alias(\"count_year\")) # Renomei a coluna para facilitar operações no futuro\n",
    "df_ytot = df_ytot.orderBy(unix_timestamp(\"year_only\", \"yyyy-mm-dd\")) # Ordena em ordem cronológica\n",
    "df_ytot.show()"
   ]
  },
  {
   "cell_type": "markdown",
   "metadata": {},
   "source": [
    "### Juntando tudo em um dataframe só"
   ]
  },
  {
   "cell_type": "code",
   "execution_count": 9,
   "metadata": {},
   "outputs": [
    {
     "name": "stdout",
     "output_type": "stream",
     "text": [
      "+----------+----------+------------+------------+------------+------------+------------+\n",
      "| year_only|count_year|count_stars1|count_stars2|count_stars3|count_stars4|count_stars5|\n",
      "+----------+----------+------------+------------+------------+------------+------------+\n",
      "|2005-01-01|         1|           0|           0|           0|           0|           1|\n",
      "|2006-01-01|        12|           0|           0|           0|           5|           7|\n",
      "|2007-01-01|        41|           0|           4|          11|          14|          12|\n",
      "|2008-01-01|        78|           1|           5|          15|          22|          35|\n",
      "|2009-01-01|       120|           4|           4|          11|          54|          47|\n",
      "|2010-01-01|       135|           5|          10|          14|          33|          73|\n",
      "|2011-01-01|       163|           3|          17|          16|          54|          73|\n",
      "|2012-01-01|       138|           3|          15|          16|          39|          65|\n",
      "|2013-01-01|       168|           9|          20|          18|          45|          76|\n",
      "|2014-01-01|       160|           4|          15|          23|          40|          78|\n",
      "|2015-01-01|       160|           5|           9|          14|          40|          92|\n",
      "|2016-01-01|       171|           4|          17|          21|          36|          93|\n",
      "|2017-01-01|       157|           9|          15|          13|          36|          84|\n",
      "|2018-01-01|       157|           4|          13|          17|          20|         103|\n",
      "+----------+----------+------------+------------+------------+------------+------------+\n",
      "\n"
     ]
    }
   ],
   "source": [
    "outer_join = (df_ytot.join(df_baaY1, df_baaY.year_only == df_baaY1.year_only1, how='outer')).drop('year_only1')\n",
    "outer_join = (outer_join.join(df_baaY2, outer_join.year_only == df_baaY2.year_only2, how='outer')).drop('year_only2')\n",
    "outer_join = (outer_join.join(df_baaY3, outer_join.year_only == df_baaY3.year_only3, how='outer')).drop('year_only3')\n",
    "outer_join = (outer_join.join(df_baaY4, outer_join.year_only == df_baaY4.year_only4, how='outer')).drop('year_only4')\n",
    "outer_join = (outer_join.join(df_baaY5, outer_join.year_only == df_baaY5.year_only5, how='outer')).drop('year_only5')\n",
    "\n",
    "df_order = outer_join.orderBy(unix_timestamp(\"year_only\", \"yyyy-mm-dd\"))\n",
    "df_order = df_order.na.fill(0)   # substitui os valores null por 0\n",
    "df_order.show()"
   ]
  },
  {
   "cell_type": "markdown",
   "metadata": {},
   "source": [
    "## Criando listas e um gráfico de quantidade de reviews por ano"
   ]
  },
  {
   "cell_type": "code",
   "execution_count": 10,
   "metadata": {},
   "outputs": [
    {
     "data": {
      "image/png": "[encoded data removed]",
      "text/plain": [
       "<Figure size 432x288 with 1 Axes>"
      ]
     },
     "metadata": {
      "needs_background": "light"
     },
     "output_type": "display_data"
    }
   ],
   "source": [
    "x_time = [val.year_only for val in df_order.select('year_only').collect()]\n",
    "\n",
    "y_ans_val1 = [val.count_stars1 for val in df_order.select('count_stars1').collect()]\n",
    "\n",
    "y_ans_val2 = [val.count_stars2 for val in df_order.select('count_stars2').collect()]\n",
    "\n",
    "y_ans_val3 = [val.count_stars3 for val in df_order.select('count_stars3').collect()]\n",
    "\n",
    "y_ans_val4 = [val.count_stars4 for val in df_order.select('count_stars4').collect()]\n",
    "\n",
    "y_ans_val5 = [val.count_stars5 for val in df_order.select('count_stars5').collect()]\n",
    "\n",
    "plt.plot(x_time, y_ans_val1,x_time, y_ans_val2,x_time, y_ans_val3,x_time, y_ans_val4,x_time, y_ans_val5)\n",
    "plt.gca().legend(('1 star','2 stars','3 stars','4 stars','5 stars'))\n",
    "\n",
    "plt.show()"
   ]
  },
  {
   "cell_type": "markdown",
   "metadata": {},
   "source": [
    "É possível ver que existe uma tendencia nesse gráfico, porém, como ja vimos antes, a quantidade de reviews não é igual todos os anos, assim temos que normalizar os dados para podermos tirar uma melhor conclusão."
   ]
  },
  {
   "cell_type": "markdown",
   "metadata": {},
   "source": [
    "## Normalizando o gráfico"
   ]
  },
  {
   "cell_type": "code",
   "execution_count": 12,
   "metadata": {},
   "outputs": [
    {
     "data": {
      "image/png": "[encoded data removed]",
      "text/plain": [
       "<Figure size 432x288 with 1 Axes>"
      ]
     },
     "metadata": {
      "needs_background": "light"
     },
     "output_type": "display_data"
    }
   ],
   "source": [
    "x_time = [val.year_only for val in df_order.select('year_only').collect()]\n",
    "\n",
    "y_ans_val1 = [val.count_stars1/val.count_year for val in df_order.select('count_stars1','count_year').collect()]\n",
    "\n",
    "y_ans_val2 = [val.count_stars2/val.count_year for val in df_order.select('count_stars2','count_year').collect()]\n",
    "\n",
    "y_ans_val3 = [val.count_stars3/val.count_year for val in df_order.select('count_stars3','count_year').collect()]\n",
    "\n",
    "y_ans_val4 = [val.count_stars4/val.count_year for val in df_order.select('count_stars4','count_year').collect()]\n",
    "\n",
    "y_ans_val5 = [val.count_stars5/val.count_year for val in df_order.select('count_stars5','count_year').collect()]\n",
    "\n",
    "plt.plot(x_time, y_ans_val1,x_time, y_ans_val2,x_time, y_ans_val3,x_time, y_ans_val4,x_time, y_ans_val5)\n",
    "plt.gca().legend(('1 star','2 stars','3 stars','4 stars','5 stars'))\n",
    "\n",
    "plt.show()"
   ]
  },
  {
   "cell_type": "markdown",
   "metadata": {},
   "source": [
    "Agora o gráfico está normalizado para o número absoluto de reviews por ano, assim, temos uma noção melhor da diferença das quantidades dos tipos de review."
   ]
  }
 ],
 "metadata": {
  "kernelspec": {
   "display_name": "Python 3",
   "language": "python",
   "name": "python3"
  },
  "language_info": {
   "codemirror_mode": {
    "name": "ipython",
    "version": 3
   },
   "file_extension": ".py",
   "mimetype": "text/x-python",
   "name": "python",
   "nbconvert_exporter": "python",
   "pygments_lexer": "ipython3",
   "version": "3.7.3"
  }
 },
 "nbformat": 4,
 "nbformat_minor": 2
}
